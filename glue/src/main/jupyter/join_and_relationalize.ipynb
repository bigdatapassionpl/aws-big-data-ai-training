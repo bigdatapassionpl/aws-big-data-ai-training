{
 "cells": [
  {
   "cell_type": "code",
   "execution_count": 1,
   "metadata": {},
   "outputs": [
    {
     "name": "stdout",
     "output_type": "stream",
     "text": [
      "Starting Spark application\n"
     ]
    },
    {
     "data": {
      "text/html": [
       "<table>\n",
       "<tr><th>ID</th><th>YARN Application ID</th><th>Kind</th><th>State</th><th>Spark UI</th><th>Driver log</th><th>Current session?</th></tr><tr><td>8</td><td>application_1552774118123_0009</td><td>pyspark</td><td>idle</td><td><a target=\"_blank\" href=\"http://ip-172-32-135-192.ec2.internal:20888/proxy/application_1552774118123_0009/\">Link</a></td><td><a target=\"_blank\" href=\"http://ip-172-32-133-184.ec2.internal:8042/node/containerlogs/container_1552774118123_0009_01_000001/livy\">Link</a></td><td>✔</td></tr></table>"
      ],
      "text/plain": [
       "<IPython.core.display.HTML object>"
      ]
     },
     "metadata": {},
     "output_type": "execute_result"
    },
    {
     "name": "stdout",
     "output_type": "stream",
     "text": [
      "SparkSession available as 'spark'.\n"
     ]
    }
   ],
   "source": [
    "import sys\n",
    "from awsglue.transforms import *\n",
    "from awsglue.utils import getResolvedOptions\n",
    "from pyspark.context import SparkContext\n",
    "from awsglue.context import GlueContext\n",
    "from awsglue.job import Job\n",
    "\n",
    "glueContext = GlueContext(SparkContext.getOrCreate())"
   ]
  },
  {
   "cell_type": "code",
   "execution_count": 2,
   "metadata": {},
   "outputs": [],
   "source": [
    "# catalog: database and table names\n",
    "db_name = \"glue\"\n",
    "tbl_persons = \"persons_json\"\n",
    "tbl_membership = \"memberships_json\"\n",
    "tbl_organization = \"organizations_json\""
   ]
  },
  {
   "cell_type": "code",
   "execution_count": 3,
   "metadata": {},
   "outputs": [],
   "source": [
    "# output s3 and temp directories\n",
    "output_history_dir = \"s3://pw-radek-glue-output/output-dir/legislator_history\"\n",
    "output_lg_single_dir = \"s3://pw-radek-glue-output/output-dir/legislator_single\"\n",
    "output_lg_partitioned_dir = \"s3://pw-radek-glue-output/output-dir/legislator_part\"\n",
    "redshift_temp_dir = \"s3://pw-radek-glue-output/temp-dir/\""
   ]
  },
  {
   "cell_type": "code",
   "execution_count": 4,
   "metadata": {},
   "outputs": [],
   "source": [
    "# Create dynamic frames from the source tables \n",
    "persons = glueContext.create_dynamic_frame.from_catalog(database=db_name, table_name=tbl_persons)\n",
    "memberships = glueContext.create_dynamic_frame.from_catalog(database=db_name, table_name=tbl_membership)\n",
    "orgs = glueContext.create_dynamic_frame.from_catalog(database=db_name, table_name=tbl_organization)"
   ]
  },
  {
   "cell_type": "code",
   "execution_count": 5,
   "metadata": {},
   "outputs": [
    {
     "name": "stdout",
     "output_type": "stream",
     "text": [
      "Count:  1961\n",
      "root\n",
      "|-- family_name: string\n",
      "|-- name: string\n",
      "|-- links: array\n",
      "|    |-- element: struct\n",
      "|    |    |-- note: string\n",
      "|    |    |-- url: string\n",
      "|-- gender: string\n",
      "|-- image: string\n",
      "|-- identifiers: array\n",
      "|    |-- element: struct\n",
      "|    |    |-- scheme: string\n",
      "|    |    |-- identifier: string\n",
      "|-- other_names: array\n",
      "|    |-- element: struct\n",
      "|    |    |-- lang: string\n",
      "|    |    |-- note: string\n",
      "|    |    |-- name: string\n",
      "|-- sort_name: string\n",
      "|-- images: array\n",
      "|    |-- element: struct\n",
      "|    |    |-- url: string\n",
      "|-- given_name: string\n",
      "|-- birth_date: string\n",
      "|-- id: string\n",
      "|-- contact_details: array\n",
      "|    |-- element: struct\n",
      "|    |    |-- type: string\n",
      "|    |    |-- value: string\n",
      "|-- death_date: string"
     ]
    }
   ],
   "source": [
    "print \"Count: \", persons.count()\n",
    "persons.printSchema()"
   ]
  },
  {
   "cell_type": "code",
   "execution_count": 6,
   "metadata": {},
   "outputs": [
    {
     "name": "stdout",
     "output_type": "stream",
     "text": [
      "Count:  10439\n",
      "root\n",
      "|-- area_id: string\n",
      "|-- on_behalf_of_id: string\n",
      "|-- organization_id: string\n",
      "|-- role: string\n",
      "|-- person_id: string\n",
      "|-- legislative_period_id: string\n",
      "|-- start_date: string\n",
      "|-- end_date: string"
     ]
    }
   ],
   "source": [
    "print \"Count: \", memberships.count()\n",
    "memberships.printSchema()"
   ]
  },
  {
   "cell_type": "code",
   "execution_count": 7,
   "metadata": {},
   "outputs": [
    {
     "name": "stdout",
     "output_type": "stream",
     "text": [
      "Count:  13\n",
      "root\n",
      "|-- identifiers: array\n",
      "|    |-- element: struct\n",
      "|    |    |-- scheme: string\n",
      "|    |    |-- identifier: string\n",
      "|-- other_names: array\n",
      "|    |-- element: struct\n",
      "|    |    |-- lang: string\n",
      "|    |    |-- note: string\n",
      "|    |    |-- name: string\n",
      "|-- id: string\n",
      "|-- classification: string\n",
      "|-- name: string\n",
      "|-- links: array\n",
      "|    |-- element: struct\n",
      "|    |    |-- note: string\n",
      "|    |    |-- url: string\n",
      "|-- image: string\n",
      "|-- seats: int\n",
      "|-- type: string"
     ]
    }
   ],
   "source": [
    "print \"Count: \", orgs.count()\n",
    "orgs.printSchema()"
   ]
  },
  {
   "cell_type": "code",
   "execution_count": 8,
   "metadata": {},
   "outputs": [],
   "source": [
    "# Keep the fields we need and rename some.\n",
    "orgs = orgs.drop_fields(['other_names', 'identifiers']) \\\n",
    "    .rename_field('id', 'org_id') \\\n",
    "    .rename_field('name', 'org_name')"
   ]
  },
  {
   "cell_type": "code",
   "execution_count": 9,
   "metadata": {},
   "outputs": [
    {
     "name": "stdout",
     "output_type": "stream",
     "text": [
      "root\n",
      "|-- classification: string\n",
      "|-- org_id: string\n",
      "|-- org_name: string\n",
      "|-- links: array\n",
      "|    |-- element: struct\n",
      "|    |    |-- note: string\n",
      "|    |    |-- url: string\n",
      "|-- image: string\n",
      "|-- seats: int\n",
      "|-- type: string"
     ]
    }
   ],
   "source": [
    "orgs.printSchema()"
   ]
  },
  {
   "cell_type": "code",
   "execution_count": 10,
   "metadata": {},
   "outputs": [
    {
     "name": "stdout",
     "output_type": "stream",
     "text": [
      "+--------------+--------------------+--------------------+--------------------+--------------------+-----+-----------+\n",
      "|classification|              org_id|            org_name|               links|               image|seats|       type|\n",
      "+--------------+--------------------+--------------------+--------------------+--------------------+-----+-----------+\n",
      "|         party|            party/al|                  AL|                null|                null| null|       null|\n",
      "|         party|      party/democrat|            Democrat|[[website,http://...|https://upload.wi...| null|       null|\n",
      "|         party|party/democrat-li...|    Democrat-Liberal|[[website,http://...|                null| null|       null|\n",
      "|   legislature|d56acebe-8fdc-47b...|House of Represen...|                null|                null|  435|lower house|\n",
      "|         party|   party/independent|         Independent|                null|                null| null|       null|\n",
      "|         party|party/new_progres...|     New Progressive|[[website,http://...|https://upload.wi...| null|       null|\n",
      "|         party|party/popular_dem...|    Popular Democrat|[[website,http://...|                null| null|       null|\n",
      "|         party|    party/republican|          Republican|[[website,http://...|https://upload.wi...| null|       null|\n",
      "|         party|party/republican-...|Republican-Conser...|[[website,http://...|                null| null|       null|\n",
      "|         party|      party/democrat|            Democrat|[[website,http://...|https://upload.wi...| null|       null|\n",
      "|         party|   party/independent|         Independent|                null|                null| null|       null|\n",
      "|         party|    party/republican|          Republican|[[website,http://...|https://upload.wi...| null|       null|\n",
      "|   legislature|8fa6c3d2-71dc-478...|              Senate|                null|                null|  100|upper house|\n",
      "+--------------+--------------------+--------------------+--------------------+--------------------+-----+-----------+"
     ]
    }
   ],
   "source": [
    "orgs.toDF().show()"
   ]
  },
  {
   "cell_type": "code",
   "execution_count": 11,
   "metadata": {},
   "outputs": [
    {
     "name": "stdout",
     "output_type": "stream",
     "text": [
      "+--------------------+\n",
      "|     organization_id|\n",
      "+--------------------+\n",
      "|d56acebe-8fdc-47b...|\n",
      "|8fa6c3d2-71dc-478...|\n",
      "+--------------------+"
     ]
    }
   ],
   "source": [
    "memberships.select_fields(['organization_id']).toDF().distinct().show()"
   ]
  },
  {
   "cell_type": "code",
   "execution_count": 12,
   "metadata": {},
   "outputs": [],
   "source": [
    "# Join the frames to create history\n",
    "l_history = Join.apply(orgs, \n",
    "                       Join.apply(persons, memberships, 'id', 'person_id'),\n",
    "                       'org_id', \n",
    "                       'organization_id') \\\n",
    "                .drop_fields(['person_id', 'org_id'])"
   ]
  },
  {
   "cell_type": "code",
   "execution_count": 13,
   "metadata": {},
   "outputs": [
    {
     "name": "stdout",
     "output_type": "stream",
     "text": [
      "Count:  10439\n",
      "root\n",
      "|-- role: string\n",
      "|-- seats: int\n",
      "|-- org_name: string\n",
      "|-- links: array\n",
      "|    |-- element: struct\n",
      "|    |    |-- note: string\n",
      "|    |    |-- url: string\n",
      "|-- type: string\n",
      "|-- sort_name: string\n",
      "|-- area_id: string\n",
      "|-- images: array\n",
      "|    |-- element: struct\n",
      "|    |    |-- url: string\n",
      "|-- on_behalf_of_id: string\n",
      "|-- other_names: array\n",
      "|    |-- element: struct\n",
      "|    |    |-- lang: string\n",
      "|    |    |-- note: string\n",
      "|    |    |-- name: string\n",
      "|-- name: string\n",
      "|-- birth_date: string\n",
      "|-- organization_id: string\n",
      "|-- gender: string\n",
      "|-- classification: string\n",
      "|-- death_date: string\n",
      "|-- legislative_period_id: string\n",
      "|-- identifiers: array\n",
      "|    |-- element: struct\n",
      "|    |    |-- scheme: string\n",
      "|    |    |-- identifier: string\n",
      "|-- image: string\n",
      "|-- given_name: string\n",
      "|-- start_date: string\n",
      "|-- family_name: string\n",
      "|-- id: string\n",
      "|-- contact_details: array\n",
      "|    |-- element: struct\n",
      "|    |    |-- type: string\n",
      "|    |    |-- value: string\n",
      "|-- end_date: string"
     ]
    }
   ],
   "source": [
    "print \"Count: \", l_history.count()\n",
    "l_history.printSchema()"
   ]
  },
  {
   "cell_type": "code",
   "execution_count": 14,
   "metadata": {},
   "outputs": [
    {
     "name": "stdout",
     "output_type": "stream",
     "text": [
      "Writing to /legislator_history ...\n",
      "<awsglue.dynamicframe.DynamicFrame object at 0x7f87e0096990>"
     ]
    }
   ],
   "source": [
    "# Write out the dynamic frame into parquet in \"legislator_history\" directory\n",
    "print \"Writing to /legislator_history ...\"\n",
    "glueContext.write_dynamic_frame.from_options(\n",
    "    frame = l_history, \n",
    "    connection_type = \"s3\", \n",
    "    connection_options = {\"path\": output_history_dir}, \n",
    "    format = \"parquet\")"
   ]
  },
  {
   "cell_type": "code",
   "execution_count": 15,
   "metadata": {},
   "outputs": [
    {
     "name": "stdout",
     "output_type": "stream",
     "text": [
      "Writing to /legislator_single ..."
     ]
    }
   ],
   "source": [
    "# Write out a single file to directory \"legislator_single\"\n",
    "s_history = l_history.toDF().repartition(1)\n",
    "print \"Writing to /legislator_single ...\"\n",
    "s_history.write.parquet(output_lg_single_dir)"
   ]
  },
  {
   "cell_type": "code",
   "execution_count": 16,
   "metadata": {},
   "outputs": [
    {
     "name": "stdout",
     "output_type": "stream",
     "text": [
      "Writing to /legislator_part, partitioned by Senate and House ..."
     ]
    }
   ],
   "source": [
    "# Convert to data frame, write to directory \"legislator_part\", partitioned by (separate) Senate and House.\n",
    "print \"Writing to /legislator_part, partitioned by Senate and House ...\"\n",
    "l_history.toDF().write.parquet(output_lg_partitioned_dir, partitionBy=['org_name'])"
   ]
  },
  {
   "cell_type": "code",
   "execution_count": null,
   "metadata": {},
   "outputs": [],
   "source": []
  }
 ],
 "metadata": {
  "kernelspec": {
   "display_name": "Sparkmagic (PySpark)",
   "language": "",
   "name": "pysparkkernel"
  },
  "language_info": {
   "codemirror_mode": {
    "name": "python",
    "version": 2
   },
   "mimetype": "text/x-python",
   "name": "pyspark",
   "pygments_lexer": "python2"
  }
 },
 "nbformat": 4,
 "nbformat_minor": 2
}
