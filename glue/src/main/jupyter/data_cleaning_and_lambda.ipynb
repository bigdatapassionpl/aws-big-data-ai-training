{
 "cells": [
  {
   "cell_type": "code",
   "execution_count": 1,
   "metadata": {},
   "outputs": [
    {
     "name": "stdout",
     "output_type": "stream",
     "text": [
      "Starting Spark application\n"
     ]
    },
    {
     "data": {
      "text/html": [
       "<table>\n",
       "<tr><th>ID</th><th>YARN Application ID</th><th>Kind</th><th>State</th><th>Spark UI</th><th>Driver log</th><th>Current session?</th></tr><tr><td>6</td><td>application_1552774118123_0007</td><td>pyspark</td><td>idle</td><td><a target=\"_blank\" href=\"http://ip-172-32-135-192.ec2.internal:20888/proxy/application_1552774118123_0007/\">Link</a></td><td><a target=\"_blank\" href=\"http://ip-172-32-145-163.ec2.internal:8042/node/containerlogs/container_1552774118123_0007_01_000001/livy\">Link</a></td><td>✔</td></tr></table>"
      ],
      "text/plain": [
       "<IPython.core.display.HTML object>"
      ]
     },
     "metadata": {},
     "output_type": "execute_result"
    },
    {
     "name": "stdout",
     "output_type": "stream",
     "text": [
      "SparkSession available as 'spark'.\n"
     ]
    }
   ],
   "source": [
    "import sys\n",
    "from awsglue.transforms import *\n",
    "from awsglue.utils import getResolvedOptions\n",
    "from pyspark.context import SparkContext\n",
    "from awsglue.context import GlueContext\n",
    "from awsglue.dynamicframe import DynamicFrame\n",
    "from awsglue.job import Job\n",
    "from pyspark.sql import SparkSession\n",
    "from pyspark.sql.functions import udf\n",
    "from pyspark.sql.types import StringType\n",
    "\n",
    "glueContext = GlueContext(SparkContext.getOrCreate())"
   ]
  },
  {
   "cell_type": "code",
   "execution_count": 2,
   "metadata": {},
   "outputs": [
    {
     "name": "stdout",
     "output_type": "stream",
     "text": [
      "root\n",
      " |-- DRG Definition: string (nullable = true)\n",
      " |-- Provider Id: string (nullable = true)\n",
      " |-- Provider Name: string (nullable = true)\n",
      " |-- Provider Street Address: string (nullable = true)\n",
      " |-- Provider City: string (nullable = true)\n",
      " |-- Provider State: string (nullable = true)\n",
      " |-- Provider Zip Code: integer (nullable = true)\n",
      " |-- Hospital Referral Region Description: string (nullable = true)\n",
      " |--  Total Discharges : integer (nullable = true)\n",
      " |--  Average Covered Charges : string (nullable = true)\n",
      " |--  Average Total Payments : string (nullable = true)\n",
      " |-- Average Medicare Payments: string (nullable = true)"
     ]
    }
   ],
   "source": [
    "medicare = spark.read.format(\n",
    "   \"com.databricks.spark.csv\").option(\n",
    "   \"header\", \"true\").option(\n",
    "   \"inferSchema\", \"true\").load(\n",
    "   's3://awsglue-datasets/examples/medicare/Medicare_Hospital_Provider.csv')\n",
    "medicare.printSchema()"
   ]
  },
  {
   "cell_type": "code",
   "execution_count": 3,
   "metadata": {},
   "outputs": [],
   "source": [
    "db_name = \"glue\"\n",
    "tbl_name = \"medicare\""
   ]
  },
  {
   "cell_type": "code",
   "execution_count": 4,
   "metadata": {},
   "outputs": [],
   "source": [
    "# S3 location for output\n",
    "output_dir = \"s3://pw-radek-glue-output/output-dir/medicare_parquet\""
   ]
  },
  {
   "cell_type": "code",
   "execution_count": 5,
   "metadata": {},
   "outputs": [
    {
     "name": "stdout",
     "output_type": "stream",
     "text": [
      "root\n",
      "|-- drg definition: string\n",
      "|-- provider id: choice\n",
      "|    |-- long\n",
      "|    |-- string\n",
      "|-- provider name: string\n",
      "|-- provider street address: string\n",
      "|-- provider city: string\n",
      "|-- provider state: string\n",
      "|-- provider zip code: long\n",
      "|-- hospital referral region description: string\n",
      "|-- total discharges: long\n",
      "|-- average covered charges: string\n",
      "|-- average total payments: string\n",
      "|-- average medicare payments: string"
     ]
    }
   ],
   "source": [
    "# Read data into a DynamicFrame using the Data Catalog metadata\n",
    "medicare_dyf = glueContext.create_dynamic_frame.from_catalog(database = db_name, table_name = tbl_name)\n",
    "medicare_dyf.printSchema()"
   ]
  },
  {
   "cell_type": "code",
   "execution_count": 6,
   "metadata": {},
   "outputs": [
    {
     "name": "stdout",
     "output_type": "stream",
     "text": [
      "root\n",
      "|-- drg definition: string\n",
      "|-- provider id: long\n",
      "|-- provider name: string\n",
      "|-- provider street address: string\n",
      "|-- provider city: string\n",
      "|-- provider state: string\n",
      "|-- provider zip code: long\n",
      "|-- hospital referral region description: string\n",
      "|-- total discharges: long\n",
      "|-- average covered charges: string\n",
      "|-- average total payments: string\n",
      "|-- average medicare payments: string"
     ]
    }
   ],
   "source": [
    "# Cast choices into integers, those values that cannot cast result in null\n",
    "medicare_res = medicare_dyf.resolveChoice(specs = [('provider id','cast:long')])\n",
    "medicare_res.printSchema()"
   ]
  },
  {
   "cell_type": "code",
   "execution_count": 7,
   "metadata": {},
   "outputs": [],
   "source": [
    "# Remove erroneous records\n",
    "medicare_df = medicare_res.toDF()\n",
    "medicare_df = medicare_df.where(\"`provider id` is NOT NULL\")"
   ]
  },
  {
   "cell_type": "code",
   "execution_count": 8,
   "metadata": {},
   "outputs": [],
   "source": [
    "\n",
    "# Apply a lambda to remove the '$'\n",
    "chop_f = udf(lambda x: x[1:], StringType())\n",
    "medicare_df = medicare_df \\\n",
    "    .withColumn(\"ACC\", chop_f(medicare_df[\"average covered charges\"])) \\\n",
    "    .withColumn(\"ATP\", chop_f(medicare_df[\"average total payments\"])) \\\n",
    "    .withColumn(\"AMP\", chop_f(medicare_df[\"average medicare payments\"]))\n"
   ]
  },
  {
   "cell_type": "code",
   "execution_count": 9,
   "metadata": {},
   "outputs": [
    {
     "name": "stdout",
     "output_type": "stream",
     "text": [
      "+--------+-------+-------+\n",
      "|     ACC|    ATP|    AMP|\n",
      "+--------+-------+-------+\n",
      "|32963.07|5777.24|4763.73|\n",
      "|15131.85|5787.57|4976.71|\n",
      "|37560.37|5434.95|4453.79|\n",
      "|13998.28|5417.56|4129.16|\n",
      "|31633.27|5658.33|4851.44|\n",
      "|16920.79|6653.80|5374.14|\n",
      "|11977.13|5834.74|4761.41|\n",
      "|35841.09|8031.12|5858.50|\n",
      "|28523.39|6113.38|5228.40|\n",
      "|75233.38|5541.05|4386.94|\n",
      "|67327.92|5461.57|4493.57|\n",
      "|39607.28|5356.28|4408.20|\n",
      "|22862.23|5374.65|4186.02|\n",
      "|31110.85|5366.23|4376.23|\n",
      "|25411.33|5282.93|4383.73|\n",
      "| 9234.51|5676.55|4509.11|\n",
      "|15895.85|5930.11|3972.85|\n",
      "|19721.16|6192.54|5179.38|\n",
      "|10710.88|4968.00|3898.88|\n",
      "|51343.75|5996.00|4962.45|\n",
      "+--------+-------+-------+\n",
      "only showing top 20 rows"
     ]
    }
   ],
   "source": [
    "medicare_df.select(['ACC', 'ATP', 'AMP']).show()"
   ]
  },
  {
   "cell_type": "code",
   "execution_count": 10,
   "metadata": {},
   "outputs": [],
   "source": [
    "# Turn it back to a dynamic frame\n",
    "medicare_tmp = DynamicFrame.fromDF(medicare_df, glueContext, \"nested\")"
   ]
  },
  {
   "cell_type": "code",
   "execution_count": 11,
   "metadata": {},
   "outputs": [
    {
     "name": "stdout",
     "output_type": "stream",
     "text": [
      "root\n",
      "|-- drg: string\n",
      "|-- provider: struct\n",
      "|    |-- id: long\n",
      "|    |-- name: string\n",
      "|    |-- city: string\n",
      "|    |-- state: string\n",
      "|    |-- zip: long\n",
      "|-- rr: string\n",
      "|-- charges: struct\n",
      "|    |-- covered: double\n",
      "|    |-- total_pay: double\n",
      "|    |-- medicare_pay: double"
     ]
    }
   ],
   "source": [
    "# Rename, cast, and nest with apply_mapping\n",
    "medicare_nest = medicare_tmp.apply_mapping([('drg definition', 'string', 'drg', 'string'), \n",
    "                             ('provider id', 'long', 'provider.id', 'long'),\n",
    "                             ('provider name', 'string', 'provider.name', 'string'),\n",
    "                             ('provider city', 'string', 'provider.city', 'string'),\n",
    "                             ('provider state', 'string', 'provider.state', 'string'),\n",
    "                             ('provider zip code', 'long', 'provider.zip', 'long'),\n",
    "                             ('hospital referral region description', 'string','rr', 'string'),\n",
    "                             ('ACC', 'string', 'charges.covered', 'double'),\n",
    "                             ('ATP', 'string', 'charges.total_pay', 'double'),\n",
    "                             ('AMP', 'string', 'charges.medicare_pay', 'double')])\n",
    "medicare_nest.printSchema()"
   ]
  },
  {
   "cell_type": "code",
   "execution_count": 12,
   "metadata": {},
   "outputs": [
    {
     "name": "stdout",
     "output_type": "stream",
     "text": [
      "+--------------------+--------------------+---------------+--------------------+\n",
      "|                 drg|            provider|             rr|             charges|\n",
      "+--------------------+--------------------+---------------+--------------------+\n",
      "|039 - EXTRACRANIA...|[10001,SOUTHEAST ...|    AL - Dothan|[32963.07,5777.24...|\n",
      "|039 - EXTRACRANIA...|[10005,MARSHALL M...|AL - Birmingham|[15131.85,5787.57...|\n",
      "|039 - EXTRACRANIA...|[10006,ELIZA COFF...|AL - Birmingham|[37560.37,5434.95...|\n",
      "|039 - EXTRACRANIA...|[10011,ST VINCENT...|AL - Birmingham|[13998.28,5417.56...|\n",
      "|039 - EXTRACRANIA...|[10016,SHELBY BAP...|AL - Birmingham|[31633.27,5658.33...|\n",
      "|039 - EXTRACRANIA...|[10023,BAPTIST ME...|AL - Montgomery|[16920.79,6653.8,...|\n",
      "|039 - EXTRACRANIA...|[10029,EAST ALABA...|AL - Birmingham|[11977.13,5834.74...|\n",
      "|039 - EXTRACRANIA...|[10033,UNIVERSITY...|AL - Birmingham|[35841.09,8031.12...|\n",
      "|039 - EXTRACRANIA...|[10039,HUNTSVILLE...|AL - Huntsville|[28523.39,6113.38...|\n",
      "|039 - EXTRACRANIA...|[10040,GADSDEN RE...|AL - Birmingham|[75233.38,5541.05...|\n",
      "|039 - EXTRACRANIA...|[10046,RIVERVIEW ...|AL - Birmingham|[67327.92,5461.57...|\n",
      "|039 - EXTRACRANIA...|[10055,FLOWERS HO...|    AL - Dothan|[39607.28,5356.28...|\n",
      "|039 - EXTRACRANIA...|[10056,ST VINCENT...|AL - Birmingham|[22862.23,5374.65...|\n",
      "|039 - EXTRACRANIA...|[10078,NORTHEAST ...|AL - Birmingham|[31110.85,5366.23...|\n",
      "|039 - EXTRACRANIA...|[10083,SOUTH BALD...|    AL - Mobile|[25411.33,5282.93...|\n",
      "|039 - EXTRACRANIA...|[10085,DECATUR GE...|AL - Huntsville|[9234.51,5676.55,...|\n",
      "|039 - EXTRACRANIA...|[10090,PROVIDENCE...|    AL - Mobile|[15895.85,5930.11...|\n",
      "|039 - EXTRACRANIA...|[10092,D C H REGI...|AL - Tuscaloosa|[19721.16,6192.54...|\n",
      "|039 - EXTRACRANIA...|[10100,THOMAS HOS...|    AL - Mobile|[10710.88,4968.0,...|\n",
      "|039 - EXTRACRANIA...|[10103,BAPTIST ME...|AL - Birmingham|[51343.75,5996.0,...|\n",
      "+--------------------+--------------------+---------------+--------------------+\n",
      "only showing top 20 rows"
     ]
    }
   ],
   "source": [
    "medicare_nest.toDF().show()"
   ]
  },
  {
   "cell_type": "code",
   "execution_count": 13,
   "metadata": {},
   "outputs": [
    {
     "name": "stdout",
     "output_type": "stream",
     "text": [
      "<awsglue.dynamicframe.DynamicFrame object at 0x7f7976f0db10>"
     ]
    }
   ],
   "source": [
    "# Write it out in Parquet\n",
    "glueContext.write_dynamic_frame.from_options(\n",
    "    frame = medicare_nest, \n",
    "    connection_type = \"s3\", \n",
    "    connection_options = {\"path\": output_dir}, \n",
    "    format = \"parquet\")"
   ]
  },
  {
   "cell_type": "code",
   "execution_count": null,
   "metadata": {},
   "outputs": [],
   "source": []
  }
 ],
 "metadata": {
  "kernelspec": {
   "display_name": "Sparkmagic (PySpark)",
   "language": "",
   "name": "pysparkkernel"
  },
  "language_info": {
   "codemirror_mode": {
    "name": "python",
    "version": 2
   },
   "mimetype": "text/x-python",
   "name": "pyspark",
   "pygments_lexer": "python2"
  }
 },
 "nbformat": 4,
 "nbformat_minor": 2
}
