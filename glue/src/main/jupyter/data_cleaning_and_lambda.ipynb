{
 "cells": [
  {
   "cell_type": "code",
   "execution_count": null,
   "metadata": {},
   "outputs": [],
   "source": [
    "import sys\n",
    "from awsglue.transforms import *\n",
    "from awsglue.utils import getResolvedOptions\n",
    "from pyspark.context import SparkContext\n",
    "from awsglue.context import GlueContext\n",
    "from awsglue.dynamicframe import DynamicFrame\n",
    "from awsglue.job import Job\n",
    "from pyspark.sql import SparkSession\n",
    "from pyspark.sql.functions import udf\n",
    "from pyspark.sql.types import StringType\n",
    "\n",
    "glueContext = GlueContext(SparkContext.getOrCreate())"
   ]
  },
  {
   "cell_type": "code",
   "execution_count": 2,
   "metadata": {},
   "outputs": [
    {
     "name": "stdout",
     "output_type": "stream",
     "text": [
      "root\n",
      " |-- DRG Definition: string (nullable = true)\n",
      " |-- Provider Id: string (nullable = true)\n",
      " |-- Provider Name: string (nullable = true)\n",
      " |-- Provider Street Address: string (nullable = true)\n",
      " |-- Provider City: string (nullable = true)\n",
      " |-- Provider State: string (nullable = true)\n",
      " |-- Provider Zip Code: integer (nullable = true)\n",
      " |-- Hospital Referral Region Description: string (nullable = true)\n",
      " |--  Total Discharges : integer (nullable = true)\n",
      " |--  Average Covered Charges : string (nullable = true)\n",
      " |--  Average Total Payments : string (nullable = true)\n",
      " |-- Average Medicare Payments: string (nullable = true)"
     ]
    }
   ],
   "source": [
    "medicare = spark.read.format(\n",
    "   \"com.databricks.spark.csv\").option(\n",
    "   \"header\", \"true\").option(\n",
    "   \"inferSchema\", \"true\").load(\n",
    "   's3://awsglue-datasets/examples/medicare/Medicare_Hospital_Provider.csv')\n",
    "medicare.printSchema()"
   ]
  },
  {
   "cell_type": "code",
   "execution_count": 3,
   "metadata": {},
   "outputs": [],
   "source": [
    "db_name = \"glue\"\n",
    "tbl_name = \"awsglue_datasets_medicare\""
   ]
  },
  {
   "cell_type": "code",
   "execution_count": 4,
   "metadata": {},
   "outputs": [
    {
     "name": "stdout",
     "output_type": "stream",
     "text": [
      "root\n",
      "|-- drg definition: string\n",
      "|-- provider id: choice\n",
      "|    |-- long\n",
      "|    |-- string\n",
      "|-- provider name: string\n",
      "|-- provider street address: string\n",
      "|-- provider city: string\n",
      "|-- provider state: string\n",
      "|-- provider zip code: long\n",
      "|-- hospital referral region description: string\n",
      "|-- total discharges: long\n",
      "|-- average covered charges: string\n",
      "|-- average total payments: string\n",
      "|-- average medicare payments: string"
     ]
    }
   ],
   "source": [
    "# Read data into a DynamicFrame using the Data Catalog metadata\n",
    "medicare_dyf = glueContext.create_dynamic_frame.from_catalog(database = db_name, table_name = tbl_name)\n",
    "medicare_dyf.printSchema()"
   ]
  },
  {
   "cell_type": "code",
   "execution_count": 5,
   "metadata": {},
   "outputs": [
    {
     "name": "stdout",
     "output_type": "stream",
     "text": [
      "root\n",
      "|-- drg definition: string\n",
      "|-- provider id: long\n",
      "|-- provider name: string\n",
      "|-- provider street address: string\n",
      "|-- provider city: string\n",
      "|-- provider state: string\n",
      "|-- provider zip code: long\n",
      "|-- hospital referral region description: string\n",
      "|-- total discharges: long\n",
      "|-- average covered charges: string\n",
      "|-- average total payments: string\n",
      "|-- average medicare payments: string"
     ]
    }
   ],
   "source": [
    "# Cast choices into integers, those values that cannot cast result in null\n",
    "medicare_res = medicare_dyf.resolveChoice(specs = [('provider id','cast:long')])\n",
    "medicare_res.printSchema()"
   ]
  },
  {
   "cell_type": "code",
   "execution_count": 6,
   "metadata": {},
   "outputs": [],
   "source": [
    "# Remove erroneous records\n",
    "medicare_df = medicare_res.toDF()\n",
    "medicare_df = medicare_df.where(\"`provider id` is NOT NULL\")"
   ]
  },
  {
   "cell_type": "code",
   "execution_count": 7,
   "metadata": {},
   "outputs": [],
   "source": [
    "\n",
    "# Apply a lambda to remove the '$'\n",
    "chop_f = udf(lambda x: x[1:], StringType())\n",
    "medicare_df = medicare_df.withColumn(\"ACC\", chop_f(medicare_df[\"average covered charges\"])).withColumn(\"ATP\", chop_f(medicare_df[\"average total payments\"])).withColumn(\"AMP\", chop_f(medicare_df[\"average medicare payments\"]))\n"
   ]
  },
  {
   "cell_type": "code",
   "execution_count": 8,
   "metadata": {},
   "outputs": [],
   "source": [
    "# Turn it back to a dynamic frame\n",
    "medicare_tmp = DynamicFrame.fromDF(medicare_df, glueContext, \"nested\")"
   ]
  },
  {
   "cell_type": "code",
   "execution_count": 9,
   "metadata": {},
   "outputs": [],
   "source": [
    "# Rename, cast, and nest with apply_mapping\n",
    "medicare_nest = medicare_tmp.apply_mapping([('drg definition', 'string', 'drg', 'string'), \n",
    "                             ('provider id', 'long', 'provider.id', 'long'),\n",
    "                             ('provider name', 'string', 'provider.name', 'string'),\n",
    "                             ('provider city', 'string', 'provider.city', 'string'),\n",
    "                             ('provider state', 'string', 'provider.state', 'string'),\n",
    "                             ('provider zip code', 'long', 'provider.zip', 'long'),\n",
    "                             ('hospital referral region description', 'string','rr', 'string'),\n",
    "                             ('ACC', 'string', 'charges.covered', 'double'),\n",
    "                             ('ATP', 'string', 'charges.total_pay', 'double'),\n",
    "                             ('AMP', 'string', 'charges.medicare_pay', 'double')])"
   ]
  },
  {
   "cell_type": "code",
   "execution_count": 10,
   "metadata": {},
   "outputs": [],
   "source": [
    "# S3 location for output\n",
    "output_dir = \"s3://aws-educate-glue-output-radek/output-dir/medicare_parquet\""
   ]
  },
  {
   "cell_type": "code",
   "execution_count": 11,
   "metadata": {},
   "outputs": [
    {
     "name": "stdout",
     "output_type": "stream",
     "text": [
      "<awsglue.dynamicframe.DynamicFrame object at 0x7fc94c5749d0>"
     ]
    }
   ],
   "source": [
    "# Write it out in Parquet\n",
    "glueContext.write_dynamic_frame.from_options(frame = medicare_nest, connection_type = \"s3\", connection_options = {\"path\": output_dir}, format = \"parquet\")"
   ]
  }
 ],
 "metadata": {
  "kernelspec": {
   "display_name": "Sparkmagic (PySpark)",
   "language": "",
   "name": "pysparkkernel"
  },
  "language_info": {
   "codemirror_mode": {
    "name": "python",
    "version": 2
   },
   "mimetype": "text/x-python",
   "name": "pyspark",
   "pygments_lexer": "python2"
  }
 },
 "nbformat": 4,
 "nbformat_minor": 2
}
